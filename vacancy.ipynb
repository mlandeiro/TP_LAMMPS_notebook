{
 "cells": [
  {
   "cell_type": "markdown",
   "id": "76a92319-f687-4597-8843-1595f40c06cb",
   "metadata": {},
   "source": [
    "# 🟣 ➡️ 🟡 ➡️ 🟠  <span style=\"color:#6f5b85;\">  Point defect diffusion in a metal (Part 2) <span>\n",
    "\n"
   ]
  },
  {
   "cell_type": "markdown",
   "id": "c16cd80c-1f2b-4f21-8313-6276f36d459d",
   "metadata": {},
   "source": [
    "## <span style=\"color:#957bb1;\"> Vacancy diffusion in Ni <span>\n",
    "\n",
    "### 1) Build the system with vacancy\n",
    "\n",
    "After investigating hydrogen diffusion in the crystal lattice, we now turn our attention to another type of point defect: **the vacancy**. Unlike hydrogen, which diffuses as a mobile interstitial atom, **a vacancy diffuses through successive atomic jumps**, where neighboring atoms move to occupy the vacant site. This process, known as **vacancy diffusion**, creates the effect of the vacancy moving through the lattice.\n",
    "\n",
    "In a face-centered cubic (FCC) structure, each atom has **12 nearest neighbors**, providing multiple possible paths for atomic exchange. Studying these atomic movements helps us better understand diffusion mechanisms and their impact on defect migration and plastic deformation in metallic materials.\n",
    "\n",
    "The possible jump vectors for vacancy diffusion in an FCC lattice correspond to the directions between an atom and its 12 first nearest neighbors. These vectors are of the form:\n",
    "\n",
    "$$\n",
    "\\vec{v} = \\frac{a}{2} \\cdot (\\pm1, \\pm1, 0), \\quad (\\pm1, 0, \\pm1), \\quad (0, \\pm1, \\pm1)\n",
    "$$\n",
    "\n",
    "where $a$ is the lattice constant. Each of these vectors connects the center of an FCC unit cell to one of its 12 face-centered neighbor sites. Understanding these jump directions is essential for modeling vacancy mobility and calculating diffusion coefficients in FCC crystals.\n",
    "\n"
   ]
  },
  {
   "cell_type": "code",
   "execution_count": 12,
   "id": "cb329b03-b317-454f-9eb6-6cdf8b463b7a",
   "metadata": {},
   "outputs": [],
   "source": [
    "from ase.calculators.lammpsrun import LAMMPS\n",
    "import os\n",
    "from ase.optimize import BFGS\n",
    "import numpy as np\n",
    "from ase.build import bulk\n",
    "\n",
    "# Set the path to the LAMMPS executable\n",
    "os.environ[\"ASE_LAMMPSRUN_COMMAND\"] = \"lammps_ase/build/lmp\"\n",
    "os.environ[\"LD_LIBRARY_PATH\"] = \"lammps_ase/build:\" + os.environ.get(\"LD_LIBRARY_PATH\", \"\")\n",
    "\n",
    "# assign the potential to the system build in LAMMPS\n",
    "parameters = {'pair_style': 'eam/alloy', 'pair_coeff': ['* * Potential/NiAlH_jea.eam.alloy Ni'] }\n",
    "files = ['Potential/NiAlH_jea.eam.alloy']  \n",
    "lammps = LAMMPS(files=files, **parameters)\n",
    "\n",
    "\n",
    "\n",
    "# Cell without defects\n",
    "\n",
    "unit_cell = bulk('Ni', crystalstructure='fcc', a=3.52, cubic=True)\n",
    "bulk = unit_cell.repeat((4, 4, 4))\n",
    "\n",
    "a = 3.52\n",
    "\n",
    "# Cell with a vacancy\n",
    "vac_init = bulk.copy()\n",
    "vac_init.pop(255)\n",
    "vac_init.calc = lammps\n",
    "\n",
    "vac_fin = bulk.copy()\n",
    "vac_fin.pop(254)\n",
    "vac_fin.calc = lammps\n",
    "\n"
   ]
  },
  {
   "cell_type": "markdown",
   "id": "d4c48b05-80f2-4e57-87b9-809b761ccef0",
   "metadata": {},
   "source": [
    "### <span style=\"color:#60a976;\"> To do: Minimize the cells and visualized it. <span>"
   ]
  },
  {
   "cell_type": "code",
   "execution_count": 13,
   "id": "da4425df-965e-44db-8294-91170d657b19",
   "metadata": {},
   "outputs": [
    {
     "name": "stdout",
     "output_type": "stream",
     "text": [
      "\n",
      " Energy minimisation for cell with hydrogen in tetrahedric site\n",
      "      Step     Time          Energy          fmax\n",
      "BFGS:    0 17:14:08    -1133.058000        0.397014\n",
      "BFGS:    1 17:14:08    -1133.084917        0.330914\n",
      "BFGS:    2 17:14:08    -1133.144556        0.083788\n",
      "BFGS:    3 17:14:08    -1133.147213        0.073487\n",
      "BFGS:    4 17:14:08    -1133.154947        0.019695\n",
      "BFGS:    5 17:14:08    -1133.155391        0.018133\n",
      "BFGS:    6 17:14:08    -1133.156895        0.008412\n",
      "BFGS:    7 17:14:08    -1133.157008        0.008385\n",
      "BFGS:    8 17:14:09    -1133.157183        0.006319\n",
      "BFGS:    9 17:14:09    -1133.157271        0.005072\n",
      "BFGS:   10 17:14:09    -1133.157322        0.005124\n",
      "BFGS:   11 17:14:09    -1133.157345        0.003956\n",
      "BFGS:   12 17:14:09    -1133.157367        0.002204\n",
      "BFGS:   13 17:14:09    -1133.157379        0.001916\n",
      "BFGS:   14 17:14:09    -1133.157384        0.001296\n",
      "BFGS:   15 17:14:09    -1133.157386        0.001002\n",
      "BFGS:   16 17:14:09    -1133.157387        0.000702\n"
     ]
    },
    {
     "data": {
      "application/vnd.jupyter.widget-view+json": {
       "model_id": "fa902893fe53476e83ff845929190ec6",
       "version_major": 2,
       "version_minor": 0
      },
      "text/plain": [
       "NGLWidget()"
      ]
     },
     "metadata": {},
     "output_type": "display_data"
    }
   ],
   "source": [
    "import nglview as nv\n",
    "print('\\n Energy minimisation for cell with hydrogen in tetrahedric site')\n",
    "opt = BFGS(vac_init)  \n",
    "opt.run(fmax=0.001) \n",
    "\n",
    "\n",
    "view = nv.show_ase(vac_init)\n",
    "view.add_unitcell()\n",
    "view.background = 'white'\n",
    "view.camera = 'orthographic'\n",
    "view"
   ]
  },
  {
   "cell_type": "code",
   "execution_count": 14,
   "id": "4b5e5776-8af7-4e03-81c1-2719c88ba018",
   "metadata": {},
   "outputs": [
    {
     "name": "stdout",
     "output_type": "stream",
     "text": [
      "\n",
      " Energy minimisation for cell with hydrogen in octahedric site\n",
      "      Step     Time          Energy          fmax\n",
      "BFGS:    0 17:14:14    -1133.058000        0.397014\n",
      "BFGS:    1 17:14:14    -1133.084917        0.330914\n",
      "BFGS:    2 17:14:14    -1133.144556        0.083788\n",
      "BFGS:    3 17:14:14    -1133.147213        0.073487\n",
      "BFGS:    4 17:14:14    -1133.154947        0.019695\n",
      "BFGS:    5 17:14:14    -1133.155391        0.018133\n",
      "BFGS:    6 17:14:14    -1133.156895        0.008412\n",
      "BFGS:    7 17:14:14    -1133.157008        0.008385\n",
      "BFGS:    8 17:14:14    -1133.157183        0.006319\n",
      "BFGS:    9 17:14:14    -1133.157271        0.005072\n",
      "BFGS:   10 17:14:14    -1133.157322        0.005124\n",
      "BFGS:   11 17:14:15    -1133.157345        0.003956\n",
      "BFGS:   12 17:14:15    -1133.157367        0.002204\n",
      "BFGS:   13 17:14:15    -1133.157379        0.001916\n",
      "BFGS:   14 17:14:15    -1133.157384        0.001296\n",
      "BFGS:   15 17:14:15    -1133.157386        0.001002\n",
      "BFGS:   16 17:14:15    -1133.157387        0.000702\n",
      "BFGS:   17 17:14:15    -1133.157389        0.000723\n",
      "BFGS:   18 17:14:15    -1133.157389        0.000667\n",
      "BFGS:   19 17:14:15    -1133.157389        0.000486\n",
      "BFGS:   20 17:14:15    -1133.157389        0.000240\n",
      "BFGS:   21 17:14:15    -1133.157390        0.000135\n",
      "BFGS:   22 17:14:15    -1133.157390        0.000088\n"
     ]
    },
    {
     "data": {
      "application/vnd.jupyter.widget-view+json": {
       "model_id": "ac1a4a445ae749a7b4238b17c568fcde",
       "version_major": 2,
       "version_minor": 0
      },
      "text/plain": [
       "NGLWidget()"
      ]
     },
     "metadata": {},
     "output_type": "display_data"
    }
   ],
   "source": [
    "print('\\n Energy minimisation for cell with hydrogen in octahedric site')\n",
    "opt = BFGS(vac_fin)  \n",
    "opt.run(fmax=0.0001) \n",
    "\n",
    "view = nv.show_ase(vac_fin)\n",
    "view.add_unitcell()\n",
    "view.background = 'white'\n",
    "view.camera = 'orthographic'\n",
    "view"
   ]
  },
  {
   "cell_type": "markdown",
   "id": "6d2f9f8b-73ea-4d30-aadc-b91e3a689f64",
   "metadata": {},
   "source": [
    "### 2) Compute energy barrier \n"
   ]
  },
  {
   "cell_type": "markdown",
   "id": "2ac8e828-ca95-405d-8a9d-3f6c521827d2",
   "metadata": {},
   "source": [
    "### <span style=\"color:#60a976;\"> To do: NEB calculations with ASE for the vacancy. <span>"
   ]
  },
  {
   "cell_type": "code",
   "execution_count": 17,
   "id": "8da97909-3af8-4b37-89e7-90382f850353",
   "metadata": {},
   "outputs": [
    {
     "name": "stdout",
     "output_type": "stream",
     "text": [
      "      Step     Time          Energy          fmax\n",
      "BFGS:    0 17:19:11    -1131.501132        2.167528\n",
      "BFGS:    1 17:19:18    -1131.749656        1.647494\n",
      "BFGS:    2 17:19:26    -1132.146189        0.377034\n",
      "BFGS:    3 17:19:35    -1132.170346        0.327601\n",
      "BFGS:    4 17:19:42    -1132.235379        0.159385\n",
      "BFGS:    5 17:19:50    -1132.243325        0.122904\n",
      "BFGS:    6 17:19:58    -1132.252778        0.135164\n",
      "BFGS:    7 17:20:06    -1132.260707        0.142171\n",
      "BFGS:    8 17:20:14    -1132.268183        0.076305\n",
      "BFGS:    9 17:20:22    -1132.271022        0.061111\n",
      "BFGS:   10 17:20:31    -1132.273480        0.078641\n",
      "BFGS:   11 17:20:53    -1132.276962        0.099703\n",
      "BFGS:   12 17:21:17    -1132.280297        0.064655\n",
      "BFGS:   13 17:21:50    -1132.281832        0.039776\n",
      "BFGS:   14 17:22:18    -1132.282868        0.058970\n",
      "BFGS:   15 17:22:54    -1132.284480        0.077683\n",
      "BFGS:   16 17:23:19    -1132.286214        0.053049\n",
      "BFGS:   17 17:23:43    -1132.287003        0.029450\n",
      "BFGS:   18 17:24:10    -1132.287303        0.029654\n",
      "BFGS:   19 17:24:36    -1132.287719        0.039364\n",
      "BFGS:   20 17:25:04    -1132.288130        0.023994\n",
      "BFGS:   21 17:25:28    -1132.288284        0.014347\n",
      "BFGS:   22 17:25:52    -1132.288349        0.017367\n",
      "BFGS:   23 17:26:15    -1132.288468        0.022183\n",
      "BFGS:   24 17:26:44    -1132.288609        0.014701\n",
      "BFGS:   25 17:27:10    -1132.288668        0.009620\n",
      "BFGS:   26 17:27:40    -1132.288685        0.009806\n",
      "BFGS:   27 17:28:06    -1132.288714        0.011481\n",
      "BFGS:   28 17:28:35    -1132.288746        0.006826\n",
      "BFGS:   29 17:29:02    -1132.288758        0.004383\n"
     ]
    },
    {
     "data": {
      "text/plain": [
       "True"
      ]
     },
     "execution_count": 17,
     "metadata": {},
     "output_type": "execute_result"
    }
   ],
   "source": [
    "from ase.mep import NEB  \n",
    "import nglview as nv\n",
    "from ase import Atom\n",
    "from ase.io import read\n",
    "from ase.mep import NEBTools\n",
    "\n",
    "# Nombre total d’images (initiale + intermédiaires + finale)\n",
    "n_images = 9\n",
    "\n",
    "# Créer la liste des images (copies ASE)\n",
    "images = [vac_init.copy()]  # image initiale\n",
    "for _ in range(n_images - 2):\n",
    "    images.append(vac_init.copy())  # images intermédiaires\n",
    "images.append(vac_fin.copy())  # image finale\n",
    "\n",
    "# Interpolation linéaire entre les images (ou utilisez method='idpp' pour + réaliste)\n",
    "neb = NEB(images)\n",
    "neb.interpolate()\n",
    "for image in images:\n",
    "    image.calc = LAMMPS(files=files, **parameters)\n",
    "    \n",
    "opt = BFGS(neb)  # pour suivre la convergence si besoin\n",
    "opt.run(fmax=0.005)\n"
   ]
  },
  {
   "cell_type": "markdown",
   "id": "cab02277-4d3c-44e9-a003-a117502e9c7a",
   "metadata": {},
   "source": [
    "### <span style=\"color:#60a976;\"> To do: Visualize the NEB results.  <span>\n",
    "\n",
    "### <span style=\"color:#e83f3f;\"> Carefull: the results must not depend on the cell size. <span>\n",
    "\n",
    "    "
   ]
  },
  {
   "cell_type": "code",
   "execution_count": 19,
   "id": "5d6016a3-c4ab-4b05-a600-b5f5f115f15c",
   "metadata": {},
   "outputs": [
    {
     "data": {
      "image/png": "[encoded data removed]",
      "text/plain": [
       "<Figure size 640x480 with 1 Axes>"
      ]
     },
     "metadata": {},
     "output_type": "display_data"
    }
   ],
   "source": [
    "nebtools = NEBTools(images)\n",
    "Ef, dE = nebtools.get_barrier(fit=False)\n",
    "\n",
    "max_force = nebtools.get_fmax()\n",
    "fig = nebtools.plot_band()"
   ]
  },
  {
   "cell_type": "markdown",
   "id": "30e81727-c058-4823-a88c-312e8020e5e6",
   "metadata": {},
   "source": [
    "### <span style=\"color:#60a976;\"> To do: Visualize NEB results for the atomic configuration of each image. <span>"
   ]
  },
  {
   "cell_type": "code",
   "execution_count": 20,
   "id": "a82768a2-628d-4b2d-b346-7f38fb4aec05",
   "metadata": {},
   "outputs": [
    {
     "data": {
      "application/vnd.jupyter.widget-view+json": {
       "model_id": "fdc18539b96a477b85020d2d10127fa7",
       "version_major": 2,
       "version_minor": 0
      },
      "text/plain": [
       "IntSlider(value=0, description='Image', max=8)"
      ]
     },
     "metadata": {},
     "output_type": "display_data"
    },
    {
     "data": {
      "application/vnd.jupyter.widget-view+json": {
       "model_id": "da1e723ba844401bbe307bda8540cc8c",
       "version_major": 2,
       "version_minor": 0
      },
      "text/plain": [
       "Output()"
      ]
     },
     "metadata": {},
     "output_type": "display_data"
    }
   ],
   "source": [
    "import ipywidgets as widgets\n",
    "from IPython.display import display, clear_output\n",
    "\n",
    "output = widgets.Output()\n",
    "\n",
    "def create_viewer(index):\n",
    "    view = nv.show_ase(images[index])\n",
    "    view.add_representation('ball+stick')\n",
    "    view.center()\n",
    "    return view\n",
    "\n",
    "slider = widgets.IntSlider(min=0, max=n_images - 1, step=1, description='Image')\n",
    "\n",
    "def on_slider_change(change):\n",
    "    with output:\n",
    "        clear_output(wait=True)\n",
    "        view = create_viewer(change['new'])\n",
    "        display(view)\n",
    "\n",
    "slider.observe(on_slider_change, names='value')\n",
    "\n",
    "with output:\n",
    "    display(create_viewer(0))\n",
    "\n",
    "display(slider, output)\n"
   ]
  },
  {
   "cell_type": "markdown",
   "id": "37f508bd-6ffc-4327-b8c5-095df2f63d18",
   "metadata": {},
   "source": [
    "### 3) Kinetic Monte Carlo simulations \n"
   ]
  },
  {
   "cell_type": "markdown",
   "id": "3adf5d65-b9ee-4edc-b97c-bb7e408e85ab",
   "metadata": {},
   "source": [
    "\n",
    "The jump frequency is typically modeled using an Arrhenius-type expression, which depends exponentially on the migration energy barrier $E_a$ and the temperature $T$:\n",
    "\n",
    "$$\n",
    "\\Gamma = \\nu \\, e^{-\\frac{E_a}{k_B T}}\n",
    "$$\n",
    "\n",
    "where $\\nu$ is an attempt frequency and $k_B$ is the Boltzmann constant.\n",
    "\n"
   ]
  },
  {
   "cell_type": "code",
   "execution_count": 23,
   "id": "e43c33b1-c011-4e40-8f89-7c1afb314d7d",
   "metadata": {},
   "outputs": [
    {
     "data": {
      "application/vnd.jupyter.widget-view+json": {
       "model_id": "7e6e3419854b4e3bb5e3b1b2490b5933",
       "version_major": 2,
       "version_minor": 0
      },
      "text/plain": [
       "VBox(children=(FloatText(value=0.87, description='Barrier (eV):', step=0.01), FloatSlider(value=300.0, continu…"
      ]
     },
     "metadata": {},
     "output_type": "display_data"
    },
    {
     "data": {
      "application/vnd.jupyter.widget-view+json": {
       "model_id": "b7cd4387dca045c382620c759131adf7",
       "version_major": 2,
       "version_minor": 0
      },
      "text/plain": [
       "Output()"
      ]
     },
     "metadata": {},
     "output_type": "display_data"
    }
   ],
   "source": [
    "import numpy as np\n",
    "import matplotlib.pyplot as plt\n",
    "import ipywidgets as widgets\n",
    "from IPython.display import display\n",
    "\n",
    "# Constants\n",
    "kB = 8.617e-5  # eV/K - Boltzmann constant\n",
    "nu0 = 1e13     # Hz - Attempt frequency (typical for solids)\n",
    "\n",
    "# Widgets: temperature (slider) and energy barrier (text input)\n",
    "temp_slider = widgets.FloatSlider(\n",
    "    value=300, min=50, max=1500, step=10,\n",
    "    description='Temperature (K):', continuous_update=False\n",
    ")\n",
    "\n",
    "Ea_input = widgets.FloatText(\n",
    "    value=0.87,\n",
    "    description='Barrier (eV):',\n",
    "    step=0.01\n",
    ")\n",
    "\n",
    "# Output area\n",
    "output = widgets.Output()\n",
    "\n",
    "# Update function\n",
    "def update(T, Ea):\n",
    "    with output:\n",
    "        output.clear_output(wait=True)\n",
    "        \n",
    "        jump_frequency = nu0 * np.exp(-Ea / (kB * T))\n",
    "        time_between_jumps = 1 / jump_frequency\n",
    "        \n",
    "        print(f\"Temperature: {T:.1f} K\")\n",
    "        print(f\"Energy barrier: {Ea:.3f} eV\")\n",
    "        print(f\"Jump frequency: {jump_frequency:.2e} Hz\")\n",
    "        print(f\"Mean time between jumps: {time_between_jumps * 1e9:.2f} ns\")\n",
    "        \n",
    "        # Plot frequency vs temperature\n",
    "        Ts = np.linspace(50, 1500, 300)\n",
    "        freqs = nu0 * np.exp(-Ea / (kB * Ts))\n",
    "        \n",
    "        plt.figure(figsize=(6, 4))\n",
    "        plt.plot(Ts, freqs, label=\"Jump frequency\")\n",
    "        plt.axvline(T, color='red', linestyle='--', label=\"Selected temperature\")\n",
    "        plt.yscale('log')\n",
    "        plt.xlabel(\"T (K)\")\n",
    "        plt.ylabel(\"Jump frequency (Hz)\")\n",
    "        plt.title(\"Temperature dependence of jump frequency\")\n",
    "        plt.legend()\n",
    "        plt.grid(True)\n",
    "        plt.show()\n",
    "\n",
    "# Interactivity\n",
    "ui = widgets.VBox([Ea_input, temp_slider])\n",
    "widgets.interactive_output(update, {'T': temp_slider, 'Ea': Ea_input})\n",
    "display(ui, output)\n"
   ]
  },
  {
   "cell_type": "markdown",
   "id": "e10fdc34-31c4-47a7-a1b5-208bc5a0bce3",
   "metadata": {},
   "source": [
    "### <span style=\"color:#60a976;\"> To do: Is it not possible to capture vacancy diffusion in MD, alternative: KMC <span>\n"
   ]
  },
  {
   "cell_type": "markdown",
   "id": "f7f7f7b9-3b75-4723-aa95-501b47ffddf8",
   "metadata": {},
   "source": [
    "\n",
    "The Kinetic Monte Carlo method (KMC) is a stochastic algorithm used to simulate the **time evolution** of systems with **discrete and rare events**, such as atomic diffusion or defect migration.\n",
    "\n",
    "For each KMC step:\n",
    " 1. Generate a list of **possible events** (e.g., atomic jumps, vacancy hops).\n",
    " 2. Each event $i$ has a **rate**:\n",
    "    $$\\gamma_i = \\nu_i \\times exp(-E_i / (k_B T))$$\n",
    "\n",
    "    where:\n",
    "    - $\\nu_i$: attempt frequency (e.g., $10^{12}$ Hz)\n",
    "    - $E_i$: energy barrier\n",
    "    - $k_B$: Boltzmann constant\n",
    "    - $T$: temperature in Kelvin\n",
    "      \n",
    " 3. Compute the **total rate**:\n",
    "    $$\\Gamma = \\sum_i^{N} \\gamma_i$$\n",
    "    \n",
    "Note that $\\Gamma_k$ will be $\\Gamma_k = \\sum_i^{k} \\gamma_i$\n",
    " \n",
    " 5. Generate two random numbers $r_1$ and $r_2$ ∈ [0, 1]:\n",
    "    - Time increment:\n",
    "      $$ \\Delta t = -ln(r_1) / \\Gamma$$\n",
    "    - Choose event $j$ such that:\n",
    "        $$\\Gamma_{k-1} < r_2 \\Gamma < \\Gamma_k$$\n",
    "       where $k$ is the $k^{th}$ event\n",
    "\n",
    " 6. Perform event $j$, update system and time."
   ]
  },
  {
   "cell_type": "markdown",
   "id": "db616a1b-416e-403c-97d1-898d38bcf6b7",
   "metadata": {},
   "source": [
    " 📌 Key Difference Between Molecular Dynamics (MD) and Kinetic Monte Carlo (KMC)\n",
    "\n",
    " 1) Molecular Dynamics (MD)\n",
    "   - Solves **Newton's equations of motion** at each femtosecond-scale timestep.\n",
    "   - Time advances in **regular, fixed increments** (e.g., 1 or 2 fs).\n",
    "   - Atoms evolve continuously according to forces, even if **no rare event** occurs.\n",
    "   - Suitable for fast dynamics, but inefficient for rare-event processes (e.g., diffusion over high barriers).\n",
    "\n",
    " 2) 🎲 Kinetic Monte Carlo (KMC)\n",
    "   - Instead of computing all atom trajectories, it focuses only on **rare events** (e.g., atomic jumps, defect motion).\n",
    "   - **Each KMC step corresponds to one physical event** (e.g., a vacancy jump).\n",
    "   - The **time increment $\\Delta$t is computed stochastically** based on the rates of possible events.\n",
    "   - Efficient for long timescale evolution: one can simulate **seconds or longer** with relatively few steps.\n"
   ]
  },
  {
   "cell_type": "code",
   "execution_count": 2,
   "id": "66b5c7fe-e289-40e8-8f55-2e9ad4357727",
   "metadata": {},
   "outputs": [
    {
     "name": "stdout",
     "output_type": "stream",
     "text": [
      "Step 0, Time = 1.0973e-09 ps, Vacancies positions: [array([12.32, 29.92,  0.  ]), array([33.44, 12.32,  3.52]), array([28.16, 26.4 ,  1.76]), array([21.12, 19.36, 26.4 ]), array([26.4 , 28.16,  5.28])]\n",
      "Step 50, Time = 4.2898e-08 ps, Vacancies positions: [array([8.8, 8.8, 0. ]), array([33.44,  5.28,  7.04]), array([26.4 , 22.88,  7.04]), array([14.08, 15.84, 33.44]), array([21.12, 26.4 ,  5.28])]\n",
      "Step 100, Time = 7.0628e-08 ps, Vacancies positions: [array([ 5.28,  3.52, 12.32]), array([29.92,  7.04, 15.84]), array([14.08, 17.6 , 21.12]), array([19.36, 14.08,  1.76]), array([29.92, 14.08, 12.32])]\n",
      "Step 150, Time = 1.0030e-07 ps, Vacancies positions: [array([5.28, 5.28, 7.04]), array([24.64, 28.16, 21.12]), array([ 5.28, 24.64, 26.4 ]), array([19.36, 12.32, 31.68]), array([28.16,  3.52, 10.56])]\n",
      "Step 200, Time = 1.2029e-07 ps, Vacancies positions: [array([10.56, 33.44, 15.84]), array([17.6 , 26.4 , 22.88]), array([ 3.52, 12.32, 33.44]), array([14.08,  7.04,  0.  ]), array([ 1.76, 33.44,  7.04])]\n",
      "Step 250, Time = 1.5101e-07 ps, Vacancies positions: [array([24.64, 31.68, 14.08]), array([17.6 , 14.08, 24.64]), array([ 0.  , 19.36, 26.4 ]), array([26.4 ,  7.04, 26.4 ]), array([ 1.76, 28.16,  8.8 ])]\n",
      "Step 300, Time = 1.8097e-07 ps, Vacancies positions: [array([31.68,  3.52,  0.  ]), array([10.56, 12.32, 26.4 ]), array([ 1.76, 10.56, 22.88]), array([26.4 , 10.56, 29.92]), array([ 5.28, 24.64, 22.88])]\n",
      "Step 350, Time = 2.0307e-07 ps, Vacancies positions: [array([ 5.28,  3.52, 33.44]), array([15.84,  1.76, 28.16]), array([ 1.76, 14.08, 26.4 ]), array([28.16,  7.04,  3.52]), array([ 0.  , 24.64, 17.6 ])]\n",
      "Step 400, Time = 2.3280e-07 ps, Vacancies positions: [array([ 8.8 , 31.68,  5.28]), array([ 7.04,  3.52, 21.12]), array([10.56, 15.84, 29.92]), array([22.88,  1.76, 28.16]), array([ 7.04, 10.56, 21.12])]\n",
      "Step 450, Time = 2.6515e-07 ps, Vacancies positions: [array([12.32, 24.64, 15.84]), array([ 0.  ,  0.  , 28.16]), array([12.32, 17.6 ,  1.76]), array([26.4 , 31.68, 26.4 ]), array([12.32,  3.52, 33.44])]\n",
      "Step 500, Time = 2.9356e-07 ps, Vacancies positions: [array([15.84, 14.08, 19.36]), array([ 8.8 , 31.68, 26.4 ]), array([ 3.52, 17.6 ,  7.04]), array([26.4 , 22.88,  0.  ]), array([ 7.04,  8.8 , 33.44])]\n",
      "Step 550, Time = 3.1512e-07 ps, Vacancies positions: [array([15.84, 15.84,  7.04]), array([31.68, 28.16,  3.52]), array([ 7.04, 19.36,  1.76]), array([31.68, 17.6 ,  0.  ]), array([3.52, 8.8 , 1.76])]\n",
      "Step 600, Time = 3.5352e-07 ps, Vacancies positions: [array([28.16,  3.52,  3.52]), array([12.32, 31.68,  1.76]), array([ 8.8 , 15.84,  0.  ]), array([5.28, 0.  , 5.28]), array([ 0.  ,  8.8 , 12.32])]\n",
      "Step 650, Time = 3.8055e-07 ps, Vacancies positions: [array([22.88,  5.28, 10.56]), array([3.52, 1.76, 1.76]), array([ 8.8 , 10.56, 12.32]), array([ 5.28, 28.16, 19.36]), array([12.32,  1.76,  3.52])]\n",
      "Step 700, Time = 4.1027e-07 ps, Vacancies positions: [array([28.16, 12.32, 33.44]), array([ 0.  , 33.44, 29.92]), array([ 3.52, 17.6 ,  3.52]), array([ 0.  , 29.92, 22.88]), array([19.36, 28.16, 12.32])]\n",
      "Step 750, Time = 4.4608e-07 ps, Vacancies positions: [array([0. , 8.8, 8.8]), array([12.32, 31.68, 26.4 ]), array([10.56, 33.44, 15.84]), array([ 1.76, 14.08, 33.44]), array([17.6 , 28.16, 28.16])]\n",
      "Step 800, Time = 4.7605e-07 ps, Vacancies positions: [array([29.92,  0.  , 19.36]), array([ 8.8 , 29.92, 24.64]), array([31.68, 28.16, 28.16]), array([ 5.28, 10.56, 12.32]), array([10.56, 31.68,  0.  ])]\n",
      "Step 850, Time = 4.9973e-07 ps, Vacancies positions: [array([26.4 ,  0.  , 19.36]), array([10.56, 26.4 , 29.92]), array([28.16, 24.64, 31.68]), array([31.68,  8.8 ,  5.28]), array([15.84, 14.08,  8.8 ])]\n",
      "Step 900, Time = 5.2918e-07 ps, Vacancies positions: [array([26.4 , 31.68, 19.36]), array([ 3.52, 29.92, 33.44]), array([ 5.28, 19.36,  0.  ]), array([7.04, 8.8 , 1.76]), array([15.84, 14.08,  5.28])]\n",
      "Step 950, Time = 5.6757e-07 ps, Vacancies positions: [array([28.16,  1.76, 15.84]), array([ 1.76, 24.64,  1.76]), array([29.92, 22.88,  0.  ]), array([10.56, 12.32, 26.4 ]), array([19.36, 14.08,  8.8 ])]\n",
      "Fin\n"
     ]
    }
   ],
   "source": [
    "import numpy as np\n",
    "import random\n",
    "\n",
    "# --- Constants ---\n",
    "k_B = 8.617e-5  # eV/K\n",
    "T = 800         # Temperature\n",
    "E_m = 0.87      # Migration barrier (eV)\n",
    "\n",
    "# --- Simulation parameters ---\n",
    "L = 10  # Number of FCC unit cells per dimension\n",
    "n_vacancies = 5\n",
    "max_steps = 1000\n",
    "output_xyz = \"trajectory.xyz\"\n",
    "alat = 3.52  # Nickel lattice parameter in Angstroms\n",
    "nu = 1e13\n",
    "\n",
    "# --- Box size for PBC ---\n",
    "box_size = np.array([L * alat, L * alat, L * alat])\n",
    "\n",
    "# --- FCC basis vectors within a unit cell ---\n",
    "fcc_basis = [\n",
    "    (0, 0, 0),\n",
    "    (0.5, 0.5, 0),\n",
    "    (0.5, 0, 0.5),\n",
    "    (0, 0.5, 0.5)\n",
    "]\n",
    "\n",
    "# --- Build the FCC lattice (positions in Angstroms) ---\n",
    "fcc_sites = []\n",
    "fcc_cell_indices = []  # liste des tuples (i,j,k,base_idx)\n",
    "index = 0\n",
    "for i in range(L):\n",
    "    for j in range(L):\n",
    "        for k in range(L):\n",
    "            for base_idx, (dx, dy, dz) in enumerate(fcc_basis):\n",
    "                x = (i + dx) * alat\n",
    "                y = (j + dy) * alat\n",
    "                z = (k + dz) * alat\n",
    "                pos = (x, y, z)\n",
    "                fcc_sites.append(pos)\n",
    "                fcc_cell_indices.append((i, j, k, base_idx))\n",
    "                index += 1\n",
    "                \n",
    "n_sites = len(fcc_sites)\n",
    "fcc_array = np.array(fcc_sites)\n",
    "lattice = ['Ni'] * n_sites\n",
    "vacancy_indices = []\n",
    "\n",
    "# --- Create lookup dict from (cell_i, cell_j, cell_k, base_idx) to site index ---\n",
    "site_map = {}\n",
    "for idx, (ci, cj, ck, bi) in enumerate(fcc_cell_indices):\n",
    "    site_map[(ci % L, cj % L, ck % L, bi)] = idx\n",
    "    \n",
    "# --- Place initial vacancies at FCC sites ---\n",
    "for _ in range(n_vacancies):\n",
    "    while True:\n",
    "        idx = random.randint(0, n_sites - 1)\n",
    "        if lattice[idx] != 'V':\n",
    "            lattice[idx] = 'V'\n",
    "            vacancy_indices.append(idx)\n",
    "            break\n",
    "\n",
    "# --- Minimum image distance function with PBC ---\n",
    "def minimum_image_distance(pos1, pos2, box):\n",
    "    delta = pos2 - pos1\n",
    "    delta -= box * np.round(delta / box)\n",
    "    return np.linalg.norm(delta)\n",
    "\n",
    "def find_neighbors(index):\n",
    "    neighbors = []\n",
    "    ci, cj, ck, bi = fcc_cell_indices[index]\n",
    "    # Les 12 premiers voisins dans FCC correspondent aux bases dans cellules voisines\n",
    "    # Voisins FCC = décalages cellulaires proches + bases FCC voisines (standard)\n",
    "\n",
    "    # Liste des 12 voisins (en indices cellulaires + base)\n",
    "    # Ces offsets doivent être déterminés précisément pour FCC.\n",
    "    # Voici la liste standard des 12 premiers voisins FCC par base.\n",
    "\n",
    "    # Pré-calcul des vecteurs des 12 premiers voisins (cellule + base)\n",
    "    # On définit cette table à la main (voir remarque après)\n",
    "    neighbor_shifts = [\n",
    "        (0, 0, 0, 1),\n",
    "        (0, 0, 0, 2),\n",
    "        (0, 0, 0, 3),\n",
    "        (-1, 0, 0, 3),\n",
    "        (1, 0, 0, 2),\n",
    "        (0, -1, 0, 2),\n",
    "        (0, 1, 0, 3),\n",
    "        (0, 0, -1, 1),\n",
    "        (0, 0, 1, 2),\n",
    "        (-1, 0, 1, 0),\n",
    "        (1, 0, -1, 0),\n",
    "        (0, -1, 1, 0)\n",
    "    ]\n",
    "\n",
    "    for dci, dcj, dck, dbi in neighbor_shifts:\n",
    "        nci = (ci + dci) % L\n",
    "        ncj = (cj + dcj) % L\n",
    "        nck = (ck + dck) % L\n",
    "        nbi = dbi\n",
    "        neighbor_idx = site_map.get((nci, ncj, nck, nbi))\n",
    "        if neighbor_idx is not None:\n",
    "            neighbors.append(neighbor_idx)\n",
    "    return neighbors\n",
    "\n",
    "\n",
    "# --- Interaction energy function depending on distance ---\n",
    "def interaction_energy(distance, C=5.0, r_min=1.0):\n",
    "    if distance < r_min:\n",
    "        distance = r_min\n",
    "    return C / distance**3\n",
    "\n",
    "# --- XYZ Writer ---\n",
    "def write_xyz(filename, lattice, fcc_array, time, step):\n",
    "    with open(filename, 'a') as f:\n",
    "        f.write(f\"{len(lattice)}\\n\")\n",
    "        f.write(f\"Step {step}, Time {time:.5e} ps\\n\")\n",
    "        for i, element in enumerate(lattice):\n",
    "            x, y, z = fcc_array[i]\n",
    "            f.write(f\"{element} {x:.4f} {y:.4f} {z:.4f}\\n\")\n",
    "\n",
    "# --- Main KMC loop ---\n",
    "t = 0.0\n",
    "trajectory = []\n",
    "open(output_xyz, 'w').close()  # Clear output file\n",
    "\n",
    "for step in range(max_steps):\n",
    "    event_list = []\n",
    "    total_rate = 0.0\n",
    "\n",
    "    for i, v_idx in enumerate(vacancy_indices):\n",
    "        neighbors = find_neighbors(v_idx)\n",
    "        for n_idx in neighbors:\n",
    "            if lattice[n_idx] == 'Ni':\n",
    "                # Compute energy barrier with interaction\n",
    "                E = E_m\n",
    "                if len(vacancy_indices) > 1:\n",
    "                    for other_idx in vacancy_indices:\n",
    "                        if other_idx != v_idx:\n",
    "                            dist = minimum_image_distance(fcc_array[n_idx], fcc_array[other_idx], box_size)\n",
    "                            E += interaction_energy(dist)\n",
    "                rate = nu*np.exp(-E / (k_B * T))\n",
    "                event_list.append((rate, i, v_idx, n_idx))\n",
    "                total_rate += rate\n",
    "\n",
    "    if total_rate == 0:\n",
    "        print(\"No more valid events.\")\n",
    "        break\n",
    "\n",
    "    # Time increment\n",
    "    u2 = random.random()\n",
    "    dt = -np.log(1 - u2) / total_rate\n",
    "    t += dt\n",
    "\n",
    "    # Event selection\n",
    "    u1 = random.random() * total_rate\n",
    "    cumulative = 0.0\n",
    "    for rate, vac_i, from_idx, to_idx in event_list:\n",
    "        cumulative += rate\n",
    "        if cumulative > u1:\n",
    "            # Perform the jump\n",
    "            lattice[from_idx] = 'Ni'\n",
    "            lattice[to_idx] = 'V'\n",
    "            vacancy_indices[vac_i] = to_idx\n",
    "            trajectory.append((t, from_idx, to_idx))\n",
    "            break\n",
    "\n",
    "    write_xyz(output_xyz, lattice, fcc_array, t, step)\n",
    "    # Save XYZ snapshot every x steps\n",
    "    if step % 50 == 0:\n",
    "        print(f\"Step {step}, Time = {t:.4e} ps, Vacancies positions: {[fcc_array[i] for i in vacancy_indices]}\")\n",
    "\n",
    "print(\"Fin\")\n"
   ]
  },
  {
   "cell_type": "code",
   "execution_count": 12,
   "id": "7e0b9b79-e82a-49f3-a57c-7d4d66c7ea1d",
   "metadata": {},
   "outputs": [
    {
     "data": {
      "application/vnd.jupyter.widget-view+json": {
       "model_id": "1ea8274cf48346bb8be2da3278017cc0",
       "version_major": 2,
       "version_minor": 0
      },
      "text/plain": [
       "IntSlider(value=0, description='Frame', max=999)"
      ]
     },
     "metadata": {},
     "output_type": "display_data"
    },
    {
     "data": {
      "application/vnd.jupyter.widget-view+json": {
       "model_id": "1050d1f9bebb4de9890f2cce435eb424",
       "version_major": 2,
       "version_minor": 0
      },
      "text/plain": [
       "Output()"
      ]
     },
     "metadata": {},
     "output_type": "display_data"
    },
    {
     "data": {
      "text/plain": [
       "<function ase.visualize.view(atoms, data=None, viewer='ase', repeat=None, block=False, **kwargs)>"
      ]
     },
     "execution_count": 12,
     "metadata": {},
     "output_type": "execute_result"
    }
   ],
   "source": [
    "from ase.io import write, read, Trajectory\n",
    "import nglview as nv\n",
    "import ipywidgets as widgets\n",
    "from IPython.display import display, clear_output\n",
    "\n",
    "images = read('trajectory.xyz', index=':')\n",
    "n_images = len(images)\n",
    "\n",
    "output = widgets.Output()\n",
    "\n",
    "def create_viewer(index):\n",
    "    view = nv.show_ase(images[index])\n",
    "    view.clear_representations()\n",
    "    view.add_ball_and_stick()\n",
    "    view.center()\n",
    "    return view\n",
    "\n",
    "slider = widgets.IntSlider(min=0, max=n_images - 1, step=1, description='Frame')\n",
    "\n",
    "def on_slider_change(change):\n",
    "    with output:\n",
    "        clear_output(wait=True)\n",
    "        view = create_viewer(change['new'])\n",
    "        display(view)\n",
    "\n",
    "slider.observe(on_slider_change, names='value')\n",
    "\n",
    "with output:\n",
    "    display(create_viewer(0))\n",
    "\n",
    "display(slider, output)\n",
    "\n",
    "view  \n"
   ]
  },
  {
   "cell_type": "code",
   "execution_count": 13,
   "id": "9240731c-7755-45af-97f2-28ccd96164b8",
   "metadata": {},
   "outputs": [
    {
     "data": {
      "application/vnd.jupyter.widget-view+json": {
       "model_id": "fb41cbae6f5a49bc9231267730cb492f",
       "version_major": 2,
       "version_minor": 0
      },
      "text/plain": [
       "IntSlider(value=0, description='Frame', max=999)"
      ]
     },
     "metadata": {},
     "output_type": "display_data"
    },
    {
     "data": {
      "application/vnd.jupyter.widget-view+json": {
       "model_id": "258f0c1ffc334912b0d7c8fc83cbb1bb",
       "version_major": 2,
       "version_minor": 0
      },
      "text/plain": [
       "Output()"
      ]
     },
     "metadata": {},
     "output_type": "display_data"
    }
   ],
   "source": [
    "from ase.io import read\n",
    "import nglview as nv\n",
    "import ipywidgets as widgets\n",
    "from IPython.display import display, clear_output\n",
    "from ase import Atoms\n",
    "\n",
    "# Chargement de la trajectoire\n",
    "images = read('trajectory.xyz', index=':')\n",
    "n_images = len(images)\n",
    "\n",
    "# Créer une liste avec uniquement les lacunes à chaque frame\n",
    "def extract_vacancies(atoms):\n",
    "    positions = atoms.get_positions()\n",
    "    symbols = atoms.get_chemical_symbols()\n",
    "    \n",
    "    vacancy_positions = [pos for sym, pos in zip(symbols, positions) if sym == 'V']\n",
    "    if not vacancy_positions:\n",
    "        return Atoms()  # aucun atome si pas de vacance\n",
    "\n",
    "    # Utilise 'He' pour que nglview puisse les afficher (V n'est pas reconnu)\n",
    "    vacancy_atoms = Atoms('He' * len(vacancy_positions), positions=vacancy_positions, cell=atoms.cell, pbc=True)\n",
    "    return vacancy_atoms\n",
    "\n",
    "vacancy_frames = [extract_vacancies(frame) for frame in images]\n",
    "\n",
    "# Interface interactive\n",
    "output = widgets.Output()\n",
    "\n",
    "def create_viewer(index):\n",
    "    atoms = vacancy_frames[index]\n",
    "    view = nv.show_ase(atoms)\n",
    "    view.clear_representations()\n",
    "    view.add_representation('spacefill', radius=1.0, color='red')  # Grosses sphères rouges\n",
    "    view.center()\n",
    "    return view\n",
    "\n",
    "slider = widgets.IntSlider(min=0, max=n_images - 1, step=1, description='Frame')\n",
    "\n",
    "def on_slider_change(change):\n",
    "    with output:\n",
    "        clear_output(wait=True)\n",
    "        view = create_viewer(change['new'])\n",
    "        display(view)\n",
    "\n",
    "slider.observe(on_slider_change, names='value')\n",
    "\n",
    "with output:\n",
    "    display(create_viewer(0))\n",
    "\n",
    "display(slider, output)\n"
   ]
  },
  {
   "cell_type": "code",
   "execution_count": null,
   "id": "b31ba05e-9b23-4e49-86b7-ddce96fe2897",
   "metadata": {},
   "outputs": [],
   "source": []
  }
 ],
 "metadata": {
  "kernelspec": {
   "display_name": "Python 3 (ipykernel)",
   "language": "python",
   "name": "python3"
  },
  "language_info": {
   "codemirror_mode": {
    "name": "ipython",
    "version": 3
   },
   "file_extension": ".py",
   "mimetype": "text/x-python",
   "name": "python",
   "nbconvert_exporter": "python",
   "pygments_lexer": "ipython3",
   "version": "3.12.3"
  }
 },
 "nbformat": 4,
 "nbformat_minor": 5
}
