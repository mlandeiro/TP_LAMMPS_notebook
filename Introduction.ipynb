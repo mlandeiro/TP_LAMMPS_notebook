{
 "cells": [
  {
   "cell_type": "markdown",
   "id": "76a92319-f687-4597-8843-1595f40c06cb",
   "metadata": {},
   "source": [
    "# 🧪 <span style=\"color:#6f5b85;\">  TP: Simulating and modeling material properties at the atomic scale <span>\n",
    "\n",
    "Welcome to this hands-on session, where we will explore atomic-scale physical phenomena such as *diffusion* and *plasticity* using **atomistic simulations**. \n",
    "\n",
    "We will work with the code **LAMMPS (https://docs.lammps.org/Manual.html)**, a widely used molecular dynamics engine in the materials science community, through the **Python interface provided by ASE** (Atomic Simulation Environment). ASE offers a flexible and user-friendly framework for building, running, and analyzing atomistic simulations in a programmable way.\n",
    "\n",
    "\n",
    "🔧 **Tools we will use**:\n",
    "- **LAMMPS**: classical molecular dynamics simulator\n",
    "- **Python + ASE**: scripting and analysis interface\n",
    "\n",
    "---\n",
    "\n",
    "## 🗺️ <span style=\"color:#957bb1;\"> Objectives <span>\n",
    "\n",
    "In this session, we will investigate two fundamental phenomena in materials science, combining **molecular dynamics (MD)** with a simplified **kinetic Monte Carlo (KMC)** approach:\n",
    "\n",
    "1. 🔬 **Point defect diffusion in a metal**  \n",
    "   → From atomistic dynamics to kinetic modeling (simple KMC)\n",
    "\n",
    "2. 🛠️ **Nanoindentation**  \n",
    "   → Simulating the mechanical response of a material under local deformation\n",
    "\n",
    "---\n",
    "\n",
    "🎯 By the end of this lab, you will be able to:\n",
    "- Run and control LAMMPS simulations via Python/ASE\n",
    "- Analyze atomic-scale mechanisms\n",
    "- Bridge the gap between atomistic MD and mesoscopic KMC modeling\n",
    "\n"
   ]
  },
  {
   "cell_type": "markdown",
   "id": "834c0cfa-354e-4887-9dfd-f37449fd2f5a",
   "metadata": {},
   "source": [
    "## <span style=\"color:#957bb1;\"> About LAMMPS code <span>\n",
    "\n",
    "**LAMMPS** (Large-scale Atomic/Molecular Massively Parallel Simulator) is a powerful and widely-used molecular dynamics simulation package developed by Sandia National Laboratories.  \n",
    "You can install LAMMPS from its official source code repository on GitHub:  \n",
    "\n",
    "```bash\n",
    "git clone https://github.com/lammps/lammps.git\n",
    "cd lammps\n",
    "mkdir build\n",
    "cd build\n",
    "cmake ../cmake\n",
    "make -j4\n",
    "sudo make install\n",
    "```\n",
    "\n",
    "### <span style=\"color:#7140ff\">However, in this TP, we will use LAMMPS indirectly via the Python interface provided by **ASE** (Atomic Simulation Environment). ASE makes it easier to set up simulations, submit them to LAMMPS, and analyze results, all within Python.<span>\n",
    "\n"
   ]
  },
  {
   "cell_type": "markdown",
   "id": "963ce962-0b65-42ef-8679-1aadac84f1a0",
   "metadata": {},
   "source": [
    "# <span style=\"color:#6f5b85;\"> Example: Running a simple LAMMPS calculation via ASE <span>\n",
    "\n",
    "\n",
    "## 1) Build the system\n",
    "\n",
    "In the solid state, most metals adopt a **crystalline structure**, meaning that their atoms are arranged in a periodic and highly ordered lattice that extends in all three spatial dimensions. This long-range order results from the minimization of the system's free energy and reflects the balance between atomic bonding forces and packing efficiency.\n",
    "\n",
    "The fundamental building block of a crystal is the **unit cell** — the smallest repeatable volume that, when translated through space, reconstructs the entire lattice. Its geometry and atomic content define the material’s symmetry and physical properties.\n",
    "\n",
    "Common metallic crystal structures include:\n",
    "\n",
    "- **Face-Centered Cubic (FCC)**: atoms at each cube corner and at the center of each face (e.g., Cu, Al, Ni, Au).\n",
    "- **Body-Centered Cubic (BCC)**: atoms at each corner and one atom in the center of the cube (e.g., Fe, Mo, Cr).\n",
    "- **Hexagonal Close-Packed (HCP)**: atoms arranged in a hexagonal pattern with dense atomic layers (e.g., Mg, Ti, Zn).\n",
    "\n",
    "For this tutorial, we will focus on **aluminum**, a metal with an FCC crystal structure."
   ]
  },
  {
   "cell_type": "code",
   "execution_count": 8,
   "id": "860eb6a8-3e66-4a42-ae87-0dc67d3c5426",
   "metadata": {},
   "outputs": [],
   "source": [
    "from ase.build import bulk\n",
    "\n",
    "# 'Al' is the atom type, 'a' the lattice parameter  \n",
    "unit_cell = bulk('Al', crystalstructure='fcc', a=4.05, cubic=True)\n"
   ]
  },
  {
   "cell_type": "code",
   "execution_count": 9,
   "id": "0632a178-e9d2-434f-b467-ccf92f9b2802",
   "metadata": {},
   "outputs": [
    {
     "data": {
      "application/vnd.jupyter.widget-view+json": {
       "model_id": "147480386d5a47a9a74f3a9fff291391",
       "version_major": 2,
       "version_minor": 0
      },
      "text/plain": [
       "NGLWidget()"
      ]
     },
     "metadata": {},
     "output_type": "display_data"
    }
   ],
   "source": [
    "# it is possible to visalize the cell using nglview\n",
    "\n",
    "import nglview as nv\n",
    "# Visualisation interactive\n",
    "view = nv.show_ase(unit_cell)\n",
    "view.add_unitcell()\n",
    "view.background = 'white'\n",
    "view.camera = 'orthographic'\n",
    "view"
   ]
  },
  {
   "cell_type": "markdown",
   "id": "1c1f624a-bf8f-456f-8499-8ee9e1b07c67",
   "metadata": {},
   "source": [
    "The unit cell can be replicated along each spatial direction to build a larger **supercell**, which is often useful to better capture the material's periodicity or to simulate extended systems.\n",
    "\n",
    "For example, to replicate the unit cell three times in each direction, you can use:\n",
    "\n",
    "```python\n",
    "supercell = unit_cell.repeat((3, 3, 3))\n"
   ]
  },
  {
   "cell_type": "code",
   "execution_count": 10,
   "id": "aab9959c-a581-4f05-9069-697c78a50a05",
   "metadata": {},
   "outputs": [
    {
     "data": {
      "application/vnd.jupyter.widget-view+json": {
       "model_id": "ae88eb57c83d45a688ad97b1d3cc22c2",
       "version_major": 2,
       "version_minor": 0
      },
      "text/plain": [
       "NGLWidget()"
      ]
     },
     "metadata": {},
     "output_type": "display_data"
    }
   ],
   "source": [
    "super_cell = unit_cell.repeat((3, 3, 3))\n",
    "view = nv.show_ase(super_cell)\n",
    "view.add_unitcell()\n",
    "view.background = 'white'\n",
    "view.camera = 'orthographic'\n",
    "view\n"
   ]
  },
  {
   "cell_type": "markdown",
   "id": "7c08c573-41ad-4de6-b70b-68b3301c188b",
   "metadata": {},
   "source": [
    "### <span style=\"color:#60a976;\"> To do : Try different crystal structures and visualize it. <span>"
   ]
  },
  {
   "cell_type": "markdown",
   "id": "07def50e-37ee-4b9e-8a71-b99b75af2080",
   "metadata": {},
   "source": [
    "## 2) Choice of the interatomic potential \n",
    "\n",
    "In molecular dynamics simulations, the choice of **interatomic potential** is critical for accurately capturing the physical behavior of materials. For metals, several classes of **empirical potentials** have been developed to model metallic bonding and its many-body nature.\n",
    "\n",
    "The most commonly used potentials for metals include:\n",
    "\n",
    "- **EAM (Embedded Atom Method)**  \n",
    "  The total energy is given by:  \n",
    "  $$\n",
    "  E = \\sum_i F_i(\\rho_i) + \\frac{1}{2} \\sum_{i \\neq j} \\phi_{ij}(r_{ij})\n",
    "  $$\n",
    "  where $F_i$ is the embedding function, $\\rho_i$ is the local electron density, and $\\phi_{ij}$ is a pair interaction.\n",
    "\n",
    "- **MEAM (Modified Embedded Atom Method)**  \n",
    "  Extends EAM to include angular dependence for more complex crystal structures.\n",
    "\n",
    "- **Finnis–Sinclair (FS)**  \n",
    "  A variant of EAM with a simpler form for the embedding function.\n",
    "\n",
    "- **Tersoff or Stillinger-Weber**  \n",
    "  Mainly used for covalent systems, but occasionally adapted for metal-semiconductor systems.\n",
    "\n",
    "These potentials are not universal — they are fitted for specific elements or alloys and must be chosen carefully based on the system and properties of interest.\n",
    "\n",
    "🗂️ **Where to find LAMMPS-compatible potentials**:\n",
    "- [LAMMPS Potential Directory](https://www.lammps.org/patches/poems/potentials.html)\n",
    "- [NIST Interatomic Potentials Repository](https://www.ctcms.nist.gov/potentials/)\n",
    "\n",
    "\n",
    "\n",
    "For this tutorial, we will use the **Angelo et al. (1995)** EAM potential, available from the [NIST Interatomic Potentials Repository](https://www.ctcms.nist.gov/potentials/Download/1995--Angelo-J-E-Moody-N-R-Baskes-M-I--Ni-Al-H/1/NiAlH_jea.eam.alloy), which is designed for the **Ni–Al–H** system.\n",
    "\n",
    "This potential is particularly suitable for modeling **Ni–Al alloys**, and is capable of capturing essential features of their **thermodynamic and mechanical behavior**, including phase stability and defect energetics, thanks to its formulation within the **Embedded Atom Method (EAM)** framework that accounts for the many-body nature of metallic bonding.\n",
    "\n"
   ]
  },
  {
   "cell_type": "code",
   "execution_count": null,
   "id": "ec9d42d8-c630-433a-8ed5-2a8449dd0024",
   "metadata": {},
   "outputs": [],
   "source": []
  }
 ],
 "metadata": {
  "kernelspec": {
   "display_name": "Python 3 (ipykernel)",
   "language": "python",
   "name": "python3"
  },
  "language_info": {
   "codemirror_mode": {
    "name": "ipython",
    "version": 3
   },
   "file_extension": ".py",
   "mimetype": "text/x-python",
   "name": "python",
   "nbconvert_exporter": "python",
   "pygments_lexer": "ipython3",
   "version": "3.12.3"
  }
 },
 "nbformat": 4,
 "nbformat_minor": 5
}
